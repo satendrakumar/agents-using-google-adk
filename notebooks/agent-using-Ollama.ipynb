{
 "cells": [
  {
   "metadata": {},
   "cell_type": "markdown",
   "source": "# Create Agent using Ollama hosted Model",
   "id": "3dcbbc3e13ab05"
  },
  {
   "metadata": {
    "ExecuteTime": {
     "end_time": "2025-07-25T06:12:26.522826Z",
     "start_time": "2025-07-25T06:12:24.035487Z"
    }
   },
   "cell_type": "code",
   "source": [
    "import os\n",
    "from google.adk.agents import Agent\n",
    "from google.adk.models.lite_llm import LiteLlm\n",
    "from google.adk.sessions import InMemorySessionService\n",
    "from google.adk.runners import Runner\n",
    "from google.genai import types\n",
    "\n",
    "import warnings\n",
    "# Ignore all warnings\n",
    "warnings.filterwarnings(\"ignore\")\n",
    "\n",
    "import logging\n",
    "logging.basicConfig(level=logging.ERROR)"
   ],
   "id": "f608156c557f56",
   "outputs": [],
   "execution_count": 1
  },
  {
   "cell_type": "code",
   "id": "initial_id",
   "metadata": {
    "collapsed": true,
    "ExecuteTime": {
     "end_time": "2025-07-25T06:12:26.594124Z",
     "start_time": "2025-07-25T06:12:26.592733Z"
    }
   },
   "source": [
    "# Tools supported models https://ollama.com/search?c=tools\n",
    "# ollama run qwen3:1.7b\n",
    "# ollama run llama3.2\n",
    "os.environ[\"OLLAMA_API_BASE\"]=\"http://localhost:11434\""
   ],
   "outputs": [],
   "execution_count": 2
  },
  {
   "metadata": {
    "ExecuteTime": {
     "end_time": "2025-07-25T06:12:26.600324Z",
     "start_time": "2025-07-25T06:12:26.598592Z"
    }
   },
   "cell_type": "code",
   "source": [
    "def get_weather(city: str) -> dict:\n",
    "    print(f\"--- Tool: get_weather called for city: {city} ---\")\n",
    "    city_normalized = city.lower().replace(\" \", \"\")\n",
    "    mock_weather_db = {\n",
    "        \"newyork\": {\"status\": \"success\", \"report\": \"The weather in New York is sunny with a temperature of 25°C.\"},\n",
    "        \"london\": {\"status\": \"success\", \"report\": \"It's cloudy in London with a temperature of 15°C.\"},\n",
    "        \"tokyo\": {\"status\": \"success\", \"report\": \"Tokyo is experiencing light rain and a temperature of 18°C.\"},\n",
    "    }\n",
    "    if city_normalized in mock_weather_db:\n",
    "        return mock_weather_db[city_normalized]\n",
    "    else:\n",
    "        return {\"status\": \"error\", \"error_message\": f\"Sorry, I don't have weather information for '{city}'.\"}"
   ],
   "id": "f882e4ce5394f0d3",
   "outputs": [],
   "execution_count": 3
  },
  {
   "metadata": {
    "ExecuteTime": {
     "end_time": "2025-07-25T06:12:26.605971Z",
     "start_time": "2025-07-25T06:12:26.604502Z"
    }
   },
   "cell_type": "code",
   "source": [
    "print(get_weather(\"New York\"))\n",
    "print(get_weather(\"Paris\"))"
   ],
   "id": "f9336f1a61e0bde2",
   "outputs": [
    {
     "name": "stdout",
     "output_type": "stream",
     "text": [
      "--- Tool: get_weather called for city: New York ---\n",
      "{'status': 'success', 'report': 'The weather in New York is sunny with a temperature of 25°C.'}\n",
      "--- Tool: get_weather called for city: Paris ---\n",
      "{'status': 'error', 'error_message': \"Sorry, I don't have weather information for 'Paris'.\"}\n"
     ]
    }
   ],
   "execution_count": 4
  },
  {
   "metadata": {
    "ExecuteTime": {
     "end_time": "2025-07-25T06:12:26.614125Z",
     "start_time": "2025-07-25T06:12:26.612836Z"
    }
   },
   "cell_type": "code",
   "source": "Ollama_Model = \"ollama_chat/llama3.2\" # or qwen3:1.7b",
   "id": "172f11e2103e83f6",
   "outputs": [],
   "execution_count": 5
  },
  {
   "metadata": {
    "ExecuteTime": {
     "end_time": "2025-07-25T06:12:26.620384Z",
     "start_time": "2025-07-25T06:12:26.618668Z"
    }
   },
   "cell_type": "code",
   "source": [
    "weather_agent = Agent(\n",
    "    name=\"weather_agent_v1\",\n",
    "    model=LiteLlm(model=Ollama_Model),\n",
    "    description=\"Provides weather information for specific cities.\",\n",
    "    instruction=\"You are a helpful weather assistant. \"\n",
    "                \"When the user asks for the weather in a specific city, \"\n",
    "                \"use the 'get_weather' tool to find the information. \"\n",
    "                \"If the tool returns an error, inform the user politely. \"\n",
    "                \"If the tool is successful, present the weather report clearly.\",\n",
    "    tools=[get_weather], # Pass the function directly\n",
    ")\n",
    "\n",
    "print(f\"Agent '{weather_agent.name}' created using model {Ollama_Model}.\")"
   ],
   "id": "e1183f6b2a6b5394",
   "outputs": [
    {
     "name": "stdout",
     "output_type": "stream",
     "text": [
      "Agent 'weather_agent_v1' created using model ollama_chat/llama3.2.\n"
     ]
    }
   ],
   "execution_count": 6
  },
  {
   "metadata": {
    "ExecuteTime": {
     "end_time": "2025-07-25T06:12:26.628033Z",
     "start_time": "2025-07-25T06:12:26.626351Z"
    }
   },
   "cell_type": "code",
   "source": [
    "session_service = InMemorySessionService()\n",
    "APP_NAME = \"weather_tutorial_app\"\n",
    "USER_ID = \"user_1\"\n",
    "SESSION_ID = \"session_001\"\n",
    "\n",
    "session = await session_service.create_session(\n",
    "    app_name=APP_NAME,\n",
    "    user_id=USER_ID,\n",
    "    session_id=SESSION_ID\n",
    ")\n",
    "\n",
    "print(f\"Session created: App='{APP_NAME}', User='{USER_ID}', Session='{SESSION_ID}'\")"
   ],
   "id": "bfbff72d9dad1966",
   "outputs": [
    {
     "name": "stdout",
     "output_type": "stream",
     "text": [
      "Session created: App='weather_tutorial_app', User='user_1', Session='session_001'\n"
     ]
    }
   ],
   "execution_count": 7
  },
  {
   "metadata": {
    "ExecuteTime": {
     "end_time": "2025-07-25T06:12:26.638586Z",
     "start_time": "2025-07-25T06:12:26.636887Z"
    }
   },
   "cell_type": "code",
   "source": [
    "runner = Runner(\n",
    "    agent=weather_agent, # The agent we want to run\n",
    "    app_name=APP_NAME,   # Associates runs with our app\n",
    "    session_service=session_service # Uses our session manager\n",
    ")\n",
    "print(f\"Runner created for agent '{runner.agent.name}'.\")"
   ],
   "id": "ed099cca8ca3fca1",
   "outputs": [
    {
     "name": "stdout",
     "output_type": "stream",
     "text": [
      "Runner created for agent 'weather_agent_v1'.\n"
     ]
    }
   ],
   "execution_count": 8
  },
  {
   "metadata": {
    "ExecuteTime": {
     "end_time": "2025-07-25T06:12:26.652459Z",
     "start_time": "2025-07-25T06:12:26.650107Z"
    }
   },
   "cell_type": "code",
   "source": [
    "async def call_agent_async(query: str, runner_service:Runner, user_id:str, session_id:str) ->str:\n",
    "  \"\"\"Sends a query to the agent and prints the final response.\"\"\"\n",
    "  print(f\"\\n>>> User Query: {query}\")\n",
    "  content = types.Content(role='user', parts=[types.Part(text=query)])\n",
    "  final_response_text = \"Agent did not produce a final response.\" # Default\n",
    "  async for event in runner_service.run_async(user_id=user_id, session_id=session_id, new_message=content):\n",
    "      print(f\"  [Event] Author: {event.author}, Type: {type(event).__name__}, Final: {event.is_final_response()}, Content: {event.content}\")\n",
    "      # Key Concept: is_final_response() marks the concluding message for the turn.\n",
    "      if event.is_final_response():\n",
    "          if event.content and event.content.parts:\n",
    "             # Assuming text response in the first part\n",
    "             final_response_text = event.content.parts[0].text\n",
    "          elif event.actions and event.actions.escalate: # Handle potential errors/escalations\n",
    "             final_response_text = f\"Agent escalated: {event.error_message or 'No specific message.'}\"\n",
    "          # Add more checks here if needed (e.g., specific error codes)\n",
    "          break # Stop processing events once the final response is found\n",
    "  return final_response_text"
   ],
   "id": "830613472e5c78ba",
   "outputs": [],
   "execution_count": 9
  },
  {
   "metadata": {
    "ExecuteTime": {
     "end_time": "2025-07-25T06:12:27.446012Z",
     "start_time": "2025-07-25T06:12:26.659976Z"
    }
   },
   "cell_type": "code",
   "source": [
    "response= await call_agent_async(\"What is the weather like in London?\",\n",
    "                                   runner_service=runner,\n",
    "                                   user_id=USER_ID,\n",
    "                                   session_id=SESSION_ID)\n",
    "\n",
    "print(response)"
   ],
   "id": "65c9397a54f76951",
   "outputs": [
    {
     "name": "stdout",
     "output_type": "stream",
     "text": [
      "\n",
      ">>> User Query: What is the weather like in London?\n",
      "  [Event] Author: weather_agent_v1, Type: Event, Final: False, Content: parts=[Part(\n",
      "  function_call=FunctionCall(\n",
      "    args={\n",
      "      'city': 'London'\n",
      "    },\n",
      "    id='65bc94f1-2265-4588-b8ca-f9bff3f261dc',\n",
      "    name='get_weather'\n",
      "  )\n",
      ")] role='model'\n",
      "--- Tool: get_weather called for city: London ---\n",
      "  [Event] Author: weather_agent_v1, Type: Event, Final: False, Content: parts=[Part(\n",
      "  function_response=FunctionResponse(\n",
      "    id='65bc94f1-2265-4588-b8ca-f9bff3f261dc',\n",
      "    name='get_weather',\n",
      "    response={\n",
      "      'report': \"It's cloudy in London with a temperature of 15°C.\",\n",
      "      'status': 'success'\n",
      "    }\n",
      "  )\n",
      ")] role='user'\n",
      "  [Event] Author: weather_agent_v1, Type: Event, Final: True, Content: parts=[Part(\n",
      "  text='The current weather in London is cloudy with a temperature of 15°C.'\n",
      ")] role='model'\n",
      "The current weather in London is cloudy with a temperature of 15°C.\n"
     ]
    }
   ],
   "execution_count": 10
  },
  {
   "metadata": {
    "ExecuteTime": {
     "end_time": "2025-07-25T06:12:27.517136Z",
     "start_time": "2025-07-25T06:12:27.515040Z"
    }
   },
   "cell_type": "code",
   "source": "",
   "id": "9fc0c9d8ab4c893e",
   "outputs": [],
   "execution_count": null
  }
 ],
 "metadata": {
  "kernelspec": {
   "display_name": "Python 3",
   "language": "python",
   "name": "python3"
  },
  "language_info": {
   "codemirror_mode": {
    "name": "ipython",
    "version": 2
   },
   "file_extension": ".py",
   "mimetype": "text/x-python",
   "name": "python",
   "nbconvert_exporter": "python",
   "pygments_lexer": "ipython2",
   "version": "2.7.6"
  }
 },
 "nbformat": 4,
 "nbformat_minor": 5
}
