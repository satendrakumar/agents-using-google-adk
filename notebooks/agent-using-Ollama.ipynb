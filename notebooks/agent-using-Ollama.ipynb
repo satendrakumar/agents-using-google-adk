{
 "cells": [
  {
   "metadata": {},
   "cell_type": "markdown",
   "source": "# Create Agent using Ollama hosted Model",
   "id": "3dcbbc3e13ab05"
  },
  {
   "metadata": {
    "ExecuteTime": {
     "end_time": "2025-07-25T05:15:54.838197Z",
     "start_time": "2025-07-25T05:15:54.834929Z"
    }
   },
   "cell_type": "code",
   "source": [
    "import os\n",
    "import asyncio\n",
    "from google.adk.agents import Agent\n",
    "from google.adk.models.lite_llm import LiteLlm\n",
    "from google.adk.sessions import InMemorySessionService\n",
    "from google.adk.runners import Runner\n",
    "\n",
    "import warnings\n",
    "# Ignore all warnings\n",
    "warnings.filterwarnings(\"ignore\")\n",
    "\n",
    "import logging\n",
    "logging.basicConfig(level=logging.ERROR)"
   ],
   "id": "f608156c557f56",
   "outputs": [],
   "execution_count": 51
  },
  {
   "cell_type": "code",
   "id": "initial_id",
   "metadata": {
    "collapsed": true,
    "ExecuteTime": {
     "end_time": "2025-07-25T05:15:54.848485Z",
     "start_time": "2025-07-25T05:15:54.846649Z"
    }
   },
   "source": [
    "# ollama run qwen3:1.7b\n",
    "os.environ[\"OLLAMA_API_BASE\"]=\"http://localhost:11434\""
   ],
   "outputs": [],
   "execution_count": 52
  },
  {
   "metadata": {
    "ExecuteTime": {
     "end_time": "2025-07-25T05:15:54.857662Z",
     "start_time": "2025-07-25T05:15:54.855282Z"
    }
   },
   "cell_type": "code",
   "source": [
    "def get_weather(city: str) -> dict:\n",
    "    print(f\"--- Tool: get_weather called for city: {city} ---\")\n",
    "    city_normalized = city.lower().replace(\" \", \"\")\n",
    "    mock_weather_db = {\n",
    "        \"newyork\": {\"status\": \"success\", \"report\": \"The weather in New York is sunny with a temperature of 25°C.\"},\n",
    "        \"london\": {\"status\": \"success\", \"report\": \"It's cloudy in London with a temperature of 15°C.\"},\n",
    "        \"tokyo\": {\"status\": \"success\", \"report\": \"Tokyo is experiencing light rain and a temperature of 18°C.\"},\n",
    "    }\n",
    "    if city_normalized in mock_weather_db:\n",
    "        return mock_weather_db[city_normalized]\n",
    "    else:\n",
    "        return {\"status\": \"error\", \"error_message\": f\"Sorry, I don't have weather information for '{city}'.\"}"
   ],
   "id": "f882e4ce5394f0d3",
   "outputs": [],
   "execution_count": 53
  },
  {
   "metadata": {
    "ExecuteTime": {
     "end_time": "2025-07-25T05:15:54.867043Z",
     "start_time": "2025-07-25T05:15:54.865403Z"
    }
   },
   "cell_type": "code",
   "source": [
    "print(get_weather(\"New York\"))\n",
    "print(get_weather(\"Paris\"))"
   ],
   "id": "f9336f1a61e0bde2",
   "outputs": [
    {
     "name": "stdout",
     "output_type": "stream",
     "text": [
      "--- Tool: get_weather called for city: New York ---\n",
      "{'status': 'success', 'report': 'The weather in New York is sunny with a temperature of 25°C.'}\n",
      "--- Tool: get_weather called for city: Paris ---\n",
      "{'status': 'error', 'error_message': \"Sorry, I don't have weather information for 'Paris'.\"}\n"
     ]
    }
   ],
   "execution_count": 54
  },
  {
   "metadata": {
    "ExecuteTime": {
     "end_time": "2025-07-25T05:15:54.881802Z",
     "start_time": "2025-07-25T05:15:54.880300Z"
    }
   },
   "cell_type": "code",
   "source": "Ollama_Model = \"ollama_chat/qwen3:1.7b\"",
   "id": "172f11e2103e83f6",
   "outputs": [],
   "execution_count": 55
  },
  {
   "metadata": {
    "ExecuteTime": {
     "end_time": "2025-07-25T05:15:54.896460Z",
     "start_time": "2025-07-25T05:15:54.894333Z"
    }
   },
   "cell_type": "code",
   "source": [
    "weather_agent = Agent(\n",
    "    name=\"weather_agent_v1\",\n",
    "    model=LiteLlm(model=Ollama_Model),\n",
    "    description=\"Provides weather information for specific cities.\",\n",
    "    instruction=\"You are a helpful weather assistant. \"\n",
    "                \"When the user asks for the weather in a specific city, \"\n",
    "                \"use the 'get_weather' tool to find the information. \"\n",
    "                \"If the tool returns an error, inform the user politely. \"\n",
    "                \"If the tool is successful, present the weather report clearly.\",\n",
    "    tools=[get_weather], # Pass the function directly\n",
    ")\n",
    "\n",
    "print(f\"Agent '{weather_agent.name}' created using model {Ollama_Model}.\")"
   ],
   "id": "e1183f6b2a6b5394",
   "outputs": [
    {
     "name": "stdout",
     "output_type": "stream",
     "text": [
      "Agent 'weather_agent_v1' created using model ollama_chat/qwen3:1.7b.\n"
     ]
    }
   ],
   "execution_count": 56
  },
  {
   "metadata": {
    "ExecuteTime": {
     "end_time": "2025-07-25T05:15:54.906334Z",
     "start_time": "2025-07-25T05:15:54.904502Z"
    }
   },
   "cell_type": "code",
   "source": [
    "session_service = InMemorySessionService()\n",
    "APP_NAME = \"weather_tutorial_app\"\n",
    "USER_ID = \"user_1\"\n",
    "SESSION_ID = \"session_001\"\n",
    "\n",
    "session = await session_service.create_session(\n",
    "    app_name=APP_NAME,\n",
    "    user_id=USER_ID,\n",
    "    session_id=SESSION_ID\n",
    ")\n",
    "\n",
    "print(f\"Session created: App='{APP_NAME}', User='{USER_ID}', Session='{SESSION_ID}'\")"
   ],
   "id": "bfbff72d9dad1966",
   "outputs": [
    {
     "name": "stdout",
     "output_type": "stream",
     "text": [
      "Session created: App='weather_tutorial_app', User='user_1', Session='session_001'\n"
     ]
    }
   ],
   "execution_count": 57
  },
  {
   "metadata": {
    "ExecuteTime": {
     "end_time": "2025-07-25T05:15:54.913734Z",
     "start_time": "2025-07-25T05:15:54.912220Z"
    }
   },
   "cell_type": "code",
   "source": [
    "runner = Runner(\n",
    "    agent=weather_agent, # The agent we want to run\n",
    "    app_name=APP_NAME,   # Associates runs with our app\n",
    "    session_service=session_service # Uses our session manager\n",
    ")\n",
    "print(f\"Runner created for agent '{runner.agent.name}'.\")"
   ],
   "id": "ed099cca8ca3fca1",
   "outputs": [
    {
     "name": "stdout",
     "output_type": "stream",
     "text": [
      "Runner created for agent 'weather_agent_v1'.\n"
     ]
    }
   ],
   "execution_count": 58
  },
  {
   "metadata": {
    "ExecuteTime": {
     "end_time": "2025-07-25T05:15:54.921648Z",
     "start_time": "2025-07-25T05:15:54.919461Z"
    }
   },
   "cell_type": "code",
   "source": [
    "from google.genai import types # For creating message Content/Parts\n",
    "\n",
    "async def call_agent_async(query: str, runner_service:Runner, user_id:str, session_id:str) ->str:\n",
    "  \"\"\"Sends a query to the agent and prints the final response.\"\"\"\n",
    "  print(f\"\\n>>> User Query: {query}\")\n",
    "  content = types.Content(role='user', parts=[types.Part(text=query)])\n",
    "  final_response_text = \"Agent did not produce a final response.\" # Default\n",
    "  async for event in runner_service.run_async(user_id=user_id, session_id=session_id, new_message=content):\n",
    "      print(f\"  [Event] Author: {event.author}, Type: {type(event).__name__}, Final: {event.is_final_response()}, Content: {event.content}\")\n",
    "      # Key Concept: is_final_response() marks the concluding message for the turn.\n",
    "      if event.is_final_response():\n",
    "          if event.content and event.content.parts:\n",
    "             # Assuming text response in the first part\n",
    "             final_response_text = event.content.parts[0].text\n",
    "          elif event.actions and event.actions.escalate: # Handle potential errors/escalations\n",
    "             final_response_text = f\"Agent escalated: {event.error_message or 'No specific message.'}\"\n",
    "          # Add more checks here if needed (e.g., specific error codes)\n",
    "          break # Stop processing events once the final response is found\n",
    "  return final_response_text"
   ],
   "id": "830613472e5c78ba",
   "outputs": [],
   "execution_count": 59
  },
  {
   "metadata": {
    "ExecuteTime": {
     "end_time": "2025-07-25T05:15:57.624118Z",
     "start_time": "2025-07-25T05:15:54.927315Z"
    }
   },
   "cell_type": "code",
   "source": [
    "response= await call_agent_async(\"What is the weather like in London?\",\n",
    "                                   runner_service=runner,\n",
    "                                   user_id=USER_ID,\n",
    "                                   session_id=SESSION_ID)\n",
    "\n",
    "print(response)"
   ],
   "id": "65c9397a54f76951",
   "outputs": [
    {
     "name": "stdout",
     "output_type": "stream",
     "text": [
      "\n",
      ">>> User Query: What is the weather like in London?\n",
      "  [Event] Author: weather_agent_v1, Type: Event, Final: False, Content: parts=[Part(\n",
      "  text=\"\"\"<think>\n",
      "Okay, the user is asking about the weather in London. I need to use the get_weather tool to fetch the information. Let me check if the tool is available. The function is called get_weather and it takes a city parameter. The city parameter should be a string. So I'll call get_weather with the city set to \"London\". I need to make sure the JSON is correctly formatted. Let me structure the tool call properly.\n",
      "</think>\n",
      "\n",
      "\"\"\"\n",
      "), Part(\n",
      "  function_call=FunctionCall(\n",
      "    args={\n",
      "      'city': 'London'\n",
      "    },\n",
      "    id='407249fc-13d8-499f-b4d4-7e1df637acda',\n",
      "    name='get_weather'\n",
      "  )\n",
      ")] role='model'\n",
      "--- Tool: get_weather called for city: London ---\n",
      "  [Event] Author: weather_agent_v1, Type: Event, Final: False, Content: parts=[Part(\n",
      "  function_response=FunctionResponse(\n",
      "    id='407249fc-13d8-499f-b4d4-7e1df637acda',\n",
      "    name='get_weather',\n",
      "    response={\n",
      "      'report': \"It's cloudy in London with a temperature of 15°C.\",\n",
      "      'status': 'success'\n",
      "    }\n",
      "  )\n",
      ")] role='user'\n",
      "  [Event] Author: weather_agent_v1, Type: Event, Final: True, Content: parts=[Part(\n",
      "  text=\"\"\"<think>\n",
      "Okay, the user asked for the weather in London. I called the get_weather function with the city set to London. The response came back as a success with the report stating it's cloudy and the temperature is 15°C. Now I need to present this information clearly. Let me make sure to mention both the weather condition and the temperature. I'll keep it concise and friendly. Alright, time to put it all together.\n",
      "</think>\n",
      "\n",
      "The weather in London is currently cloudy with a temperature of 15°C.\"\"\"\n",
      ")] role='model'\n",
      "<think>\n",
      "Okay, the user asked for the weather in London. I called the get_weather function with the city set to London. The response came back as a success with the report stating it's cloudy and the temperature is 15°C. Now I need to present this information clearly. Let me make sure to mention both the weather condition and the temperature. I'll keep it concise and friendly. Alright, time to put it all together.\n",
      "</think>\n",
      "\n",
      "The weather in London is currently cloudy with a temperature of 15°C.\n"
     ]
    }
   ],
   "execution_count": 60
  },
  {
   "metadata": {
    "ExecuteTime": {
     "end_time": "2025-07-25T05:15:57.680639Z",
     "start_time": "2025-07-25T05:15:57.679032Z"
    }
   },
   "cell_type": "code",
   "source": "",
   "id": "9fc0c9d8ab4c893e",
   "outputs": [],
   "execution_count": null
  }
 ],
 "metadata": {
  "kernelspec": {
   "display_name": "Python 3",
   "language": "python",
   "name": "python3"
  },
  "language_info": {
   "codemirror_mode": {
    "name": "ipython",
    "version": 2
   },
   "file_extension": ".py",
   "mimetype": "text/x-python",
   "name": "python",
   "nbconvert_exporter": "python",
   "pygments_lexer": "ipython2",
   "version": "2.7.6"
  }
 },
 "nbformat": 4,
 "nbformat_minor": 5
}
