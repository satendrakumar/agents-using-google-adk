{
 "cells": [
  {
   "cell_type": "code",
   "execution_count": null,
   "id": "initial_id",
   "metadata": {
    "collapsed": true
   },
   "outputs": [],
   "source": [
    "import subprocess\n",
    "from google.adk.agents import LlmAgent\n",
    "from google.adk.models.lite_llm import LiteLlm\n",
    "\n",
    "# --- Example Agent using a model hosted on a vLLM endpoint ---\n",
    "\n",
    "# Endpoint URL provided by your vLLM deployment\n",
    "api_base_url = \"https://your-vllm-endpoint.run.app/v1\"\n",
    "\n",
    "# Model name as recognized by *your* vLLM endpoint configuration\n",
    "model_name_at_endpoint = \"hosted_vllm/google/gemma-3-4b-it\" # Example from vllm_test.py\n",
    "\n",
    "# Authentication (Example: using gcloud identity token for a Cloud Run deployment)\n",
    "# Adapt this based on your endpoint's security\n",
    "try:\n",
    "    gcloud_token = subprocess.check_output(\n",
    "        [\"gcloud\", \"auth\", \"print-identity-token\", \"-q\"]\n",
    "    ).decode().strip()\n",
    "    auth_headers = {\"Authorization\": f\"Bearer {gcloud_token}\"}\n",
    "except Exception as e:\n",
    "    print(f\"Warning: Could not get gcloud token - {e}. Endpoint might be unsecured or require different auth.\")\n",
    "    auth_headers = None # Or handle error appropriately\n",
    "\n",
    "agent_vllm = LlmAgent(\n",
    "    model=LiteLlm(\n",
    "        model=model_name_at_endpoint,\n",
    "        api_base=api_base_url,\n",
    "        # Pass authentication headers if needed\n",
    "        extra_headers=auth_headers\n",
    "        # Alternatively, if endpoint uses an API key:\n",
    "        # api_key=\"YOUR_ENDPOINT_API_KEY\"\n",
    "    ),\n",
    "    name=\"vllm_agent\",\n",
    "    instruction=\"You are a helpful assistant running on a self-hosted vLLM endpoint.\",\n",
    "    # ... other agent parameters\n",
    ")"
   ]
  }
 ],
 "metadata": {
  "kernelspec": {
   "display_name": "Python 3",
   "language": "python",
   "name": "python3"
  },
  "language_info": {
   "codemirror_mode": {
    "name": "ipython",
    "version": 2
   },
   "file_extension": ".py",
   "mimetype": "text/x-python",
   "name": "python",
   "nbconvert_exporter": "python",
   "pygments_lexer": "ipython2",
   "version": "2.7.6"
  }
 },
 "nbformat": 4,
 "nbformat_minor": 5
}
